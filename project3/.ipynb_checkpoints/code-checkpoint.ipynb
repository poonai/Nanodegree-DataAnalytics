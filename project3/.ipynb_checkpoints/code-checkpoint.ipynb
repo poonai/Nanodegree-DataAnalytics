{
 "cells": [
  {
   "cell_type": "code",
   "execution_count": 1,
   "metadata": {
    "collapsed": false
   },
   "outputs": [],
   "source": [
    "import xml.etree.cElementTree as cET\n",
    "import re\n",
    "import collections\n",
    "import pprint\n",
    "import json\n",
    "import simplejson"
   ]
  },
  {
   "cell_type": "markdown",
   "metadata": {},
   "source": [
    "# finding the unique tag on the xml"
   ]
  },
  {
   "cell_type": "code",
   "execution_count": 2,
   "metadata": {
    "collapsed": false
   },
   "outputs": [
    {
     "name": "stdout",
     "output_type": "stream",
     "text": [
      "['osm', 'bounds', 'node', 'tag', 'way', 'nd', 'relation', 'member']\n"
     ]
    }
   ],
   "source": [
    "# finding unique tag\n",
    "tags = []\n",
    "for _,elem in cET.iterparse('singapore.osm',('start',)):\n",
    "    if not elem.tag in tags:\n",
    "        tags.append(elem.tag)       \n",
    "print tags"
   ]
  },
  {
   "cell_type": "markdown",
   "metadata": {
    "collapsed": true
   },
   "source": [
    "# unique tag count"
   ]
  },
  {
   "cell_type": "code",
   "execution_count": 3,
   "metadata": {
    "collapsed": false
   },
   "outputs": [
    {
     "name": "stdout",
     "output_type": "stream",
     "text": [
      "{'node': 1426354, 'member': 94175, 'tag': 663789, 'osm': 1, 'way': 220418, 'relation': 2551, 'nd': 1765632, 'bounds': 1}\n"
     ]
    }
   ],
   "source": [
    "# unique tag count\n",
    "tag_count = {\n",
    "    'osm':0,\n",
    "    'bounds':0,\n",
    "    'node':0,\n",
    "    'tag':0,\n",
    "    'way':0,\n",
    "    'nd':0,\n",
    "    'relation':0,\n",
    "    'member':0\n",
    "}\n",
    "for _,elem in cET.iterparse('singapore.osm',events=('start',)):\n",
    "    tag_count[elem.tag]+=1\n",
    "print tag_count"
   ]
  },
  {
   "cell_type": "markdown",
   "metadata": {},
   "source": [
    "# tag description\n",
    "1) node - lat and lng of each point                                               \n",
    "2) tag - describe about the tag which it got enclosed.it has to attribute k and v eg: tag decribe about node                 \n",
    "3) way- it consist of nd tags reffrence to each node to form a ploygon line eg: highway road                       \n",
    "4) relation - A relation is a multi-purpose data structure that documents a relationship between two or more data elements (nodes, ways, and/or other relations)              \n",
    "5) bounds - it tells the max lat and lng of that dataset                      \n",
    "6) osm - tells the version and some meta data of this xml file                  \n",
    "\n",
    "# total tag count"
   ]
  },
  {
   "cell_type": "code",
   "execution_count": 4,
   "metadata": {
    "collapsed": false
   },
   "outputs": [
    {
     "name": "stdout",
     "output_type": "stream",
     "text": [
      "642365\n"
     ]
    }
   ],
   "source": [
    "count = 0\n",
    "for _,elem in cET.iterparse('singapore.osm',events=('start',)):\n",
    "    if elem.tag == 'node' or elem.tag == \"way\":\n",
    "        for tag in elem.iter('tag'):\n",
    "            count+=1\n",
    "print count"
   ]
  },
  {
   "cell_type": "markdown",
   "metadata": {},
   "source": [
    "# auditing\n",
    "finding some intresting street rather than our expected street"
   ]
  },
  {
   "cell_type": "code",
   "execution_count": 5,
   "metadata": {
    "collapsed": false
   },
   "outputs": [
    {
     "name": "stdout",
     "output_type": "stream",
     "text": [
      "{'1': set(['Clementi Ave 1',\n",
      "           'Hougang Ave 1',\n",
      "           'Iskandar Irda 1',\n",
      "           'Lorong 1',\n",
      "           'Mukakuning Indah 1',\n",
      "           'Persiaran Canselor 1',\n",
      "           'Serangoon Aenue 1',\n",
      "           'Ubi Ave 1',\n",
      "           'Woodlands Ave 1',\n",
      "           'Woodlands Sector 1']),\n",
      " '11': set(['Blok B. 11']),\n",
      " '14': set(['Clementi St 14']),\n",
      " '2': set(['Clementi Ave 2',\n",
      "           'Jl.Tiban 2',\n",
      "           'Lorong 2']),\n",
      " '2a': set(['Lorong 2a']),\n",
      " '2b': set(['Lorong 2b']),\n",
      " '2c': set(['Lorong 2c']),\n",
      " '3': set(['1013 Geylang East Ave 3',\n",
      "           'Ang Mo Kio Ave 3',\n",
      "           'Lorong 3',\n",
      "           'Lorong Sundang 3']),\n",
      " '4': set(['Ang Mo Kio Ave 4',\n",
      "           'Lorong 4',\n",
      "           'Tampines Ave 4']),\n",
      " '5': set(['Bukit Batok East Ave 5',\n",
      "           'Choa Chu Kang North 5',\n",
      "           'Lorong 5',\n",
      "           'Mukakuning Indah 1 Blok U No 5',\n",
      "           'Ruko Citra Mas Blok BNo 5',\n",
      "           'Tampines Industrial Ave 5']),\n",
      " '51': set(['Yishun St 51']),\n",
      " '6': set(['Ang Mo Kio Ave 6',\n",
      "           'Lorong 6',\n",
      "           'Pasir Ris Dr 6',\n",
      "           'Yishun Ave 6']),\n",
      " '62': set(['Ang Mo Kio St 62',\n",
      "            'km 62']),\n",
      " '65': set(['Jurong West St 65']),\n",
      " '7': set(['70 Woodlands Ave 7',\n",
      "           'Lorong 7']),\n",
      " '7A': set(['Eunos Ave 7A']),\n",
      " '8': set(['Lorong 8']),\n",
      " '92': set(['Jurong West St 92']),\n",
      " 'Adil': set(['Lorong Adil']),\n",
      " 'Ahmad': set(['Lorong Haji Omar Ahmad']),\n",
      " 'Ali': set(['Jln. Megat Ali']),\n",
      " 'Ampas': set(['Lorong Ampas']),\n",
      " 'Asoka': set(['Jl. Asoka']),\n",
      " 'Ave': set(['Brighton Ave',\n",
      "             'Sin Min Ave']),\n",
      " 'Avebue': set(['Bayfront Avebue']),\n",
      " 'Bahru': set(['Gelyang Bahru',\n",
      "               'Geylang Bahru',\n",
      "               'Kallang Bahru',\n",
      "               'Lengkok Bahru']),\n",
      " 'Balai': set(['Lorong Balai']),\n",
      " 'Bank': set(['Pearl Bank']),\n",
      " 'Barelang': set(['Jl.Trans Barelang']),\n",
      " 'Barli': set(['Persiaran Barli']),\n",
      " 'Batam': set(['Komplek Bumi Indah Nagoya, Depan Sari Jaya Hotel. Batam']),\n",
      " 'Belian': set(['Lorong Belian']),\n",
      " 'Besar': set(['Pantai Batu Besar']),\n",
      " 'Biru': set(['Lorong Biru']),\n",
      " 'Blvd': set(['Airport Blvd']),\n",
      " 'Bow': set(['Compassvale Bow']),\n",
      " 'Bugis': set(['Kampong Bugis']),\n",
      " 'Centre': set(['Bukit Timah Shopping Centre',\n",
      "                'Komplek Oriana ,Batam Centre']),\n",
      " 'Chuan': set(['Lorong Chuan']),\n",
      " 'Clubhouse': set(['Pine Grove Clubhouse']),\n",
      " 'Concourse': set(['Tampines Concourse']),\n",
      " 'Court': set(['Albert Court']),\n",
      " 'Cresent': set(['Choa Chu Kang Cresent',\n",
      "                 'Gambas Cresent']),\n",
      " 'Cross': set(['Rhu Cross']),\n",
      " 'Damai': set(['Lorong Damai']),\n",
      " 'Dermoth': set(['Tiban Mc Dermoth']),\n",
      " 'Dr': set(['Libra Dr']),\n",
      " 'East': set(['Punggol East']),\n",
      " 'Elizabeth': set(['Mount Elizabeth']),\n",
      " 'Emas': set(['Persiaran Impian Emas']),\n",
      " 'Enam': set(['Lengkong Enam']),\n",
      " 'Estate': set(['Dalvey Estate',\n",
      "                'Mandai Estate',\n",
      "                'Sector B Sin Ming Ind Estate']),\n",
      " 'Field': set(['Punggol Field']),\n",
      " 'Gate': set(['Sultan Gate']),\n",
      " 'Geylang': set(['Lorong 1 Geylang',\n",
      "                 'Lorong 10 Geylang',\n",
      "                 'Lorong 11 Geylang',\n",
      "                 'Lorong 12 Geylang',\n",
      "                 'Lorong 14 Geylang',\n",
      "                 'Lorong 15 Geylang',\n",
      "                 'Lorong 16 Geylang',\n",
      "                 'Lorong 17 Geylang',\n",
      "                 'Lorong 18 Geylang',\n",
      "                 'Lorong 20 Geylang',\n",
      "                 'Lorong 21 Geylang',\n",
      "                 'Lorong 22 Geylang',\n",
      "                 'Lorong 26 Geylang',\n",
      "                 'Lorong 27 Geylang',\n",
      "                 'Lorong 3 Geylang',\n",
      "                 'Lorong 4 Geylang',\n",
      "                 'Lorong 6 Geylang',\n",
      "                 'Lorong 8 Geylang']),\n",
      " 'Grande': set(['Tampines Grande']),\n",
      " 'Green': set(['Buangkok Green',\n",
      "               'Eastwood Green',\n",
      "               'Finlayson Green',\n",
      "               'Laguna Golf Green',\n",
      "               'Nim Green',\n",
      "               'River Valley Green',\n",
      "               'Stratton Green',\n",
      "               'Vista Exchange Green']),\n",
      " 'Grove': set(['Beechwood Grove',\n",
      "               'Biomedical Grove',\n",
      "               'Lynwood Grove',\n",
      "               'Pasir Ris Grove',\n",
      "               'Peakville Grove',\n",
      "               'Pine Grove']),\n",
      " 'Harbour': set(['Puteri Harbour']),\n",
      " 'Height': set(['Ledang Height',\n",
      "                'Nong Chik Height']),\n",
      " 'Heights': set(['Holland Heights',\n",
      "                 'Leedon Heights',\n",
      "                 'Telok Blangah Heights',\n",
      "                 'Toh Heights',\n",
      "                 'Watten Heights']),\n",
      " 'Hikmat': set(['Lorong Hikmat']),\n",
      " 'Hitam': set(['PT. Anggrek Hitam']),\n",
      " 'I': set(['Jl.Tiban I']),\n",
      " 'Impian': set(['Persiaran Seri Impian']),\n",
      " 'Indah': set(['Perumahan Graha Permata Indah, Tiban Indah',\n",
      "               'Villa Bukit Indah']),\n",
      " 'Intan': set(['Lorong Intan']),\n",
      " 'Interchange': set(['Mahmoodiah Interchange']),\n",
      " 'Jaya': set(['Lorong Jaya']),\n",
      " 'Johor': set(['Taman Pasir Puteh, 81700 Pasir Gudang, Johor']),\n",
      " 'Kampus': set(['Persiaran Kampus']),\n",
      " 'Kanan': set(['Lorong Bakti Kanan']),\n",
      " 'Kayu': set(['Kampong Kayu']),\n",
      " 'Kedua': set(['Lebuhraya Hubungan Kedua']),\n",
      " 'Kembang': set(['Lorong Kembang']),\n",
      " 'Kembangan': set(['Lorong Kembangan',\n",
      "                   'Taman Kembangan']),\n",
      " 'Kempas': set(['Lengkok Kempas']),\n",
      " 'Kemuliaan': set(['Jl.Budi Kemuliaan']),\n",
      " 'Kiri': set(['Lorong Bakti Kiri']),\n",
      " 'Kismis': set(['Lorong Kismis']),\n",
      " 'Knolls': set(['The Knolls']),\n",
      " 'Koon': set(['Lorong Low Koon']),\n",
      " 'Kurau': set(['Lorong J Telok Kurau',\n",
      "               'Lorong K Telok Kurau']),\n",
      " 'Lekiu': set(['Jl.Hang Lekiu']),\n",
      " 'Lian': set(['Lorong Lew Lian']),\n",
      " 'Lima': set(['Lengkong Lima']),\n",
      " 'Limau': set(['Lorong Limau']),\n",
      " 'Liput': set(['Lor Liput',\n",
      "               'Lorong Liput']),\n",
      " 'Loop': set(['Cleantech Loop',\n",
      "              'Pandan Loop',\n",
      "              'Tuas Loop']),\n",
      " 'Lye': set(['Lorong Ong Lye']),\n",
      " 'Maju': set(['Lorong Maju']),\n",
      " 'Makmur': set(['Lorong Makmur']),\n",
      " 'Malaysia': set(['Kampung Sepakat, 81750 Masai, Johor, Malaysia']),\n",
      " 'Mambong': set(['Lorong Mambong']),\n",
      " 'Marican': set(['Lorong Marican']),\n",
      " 'Marzuki': set(['Lorong Marzuki']),\n",
      " 'Murni': set(['Lorong Murni']),\n",
      " 'Mutiara': set(['Lorong Mutiara']),\n",
      " 'Napiri': set(['Lorong Napiri']),\n",
      " 'Nasib': set(['Lorong Nasib']),\n",
      " 'Nee': set(['Jln Tan Hiok Nee']),\n",
      " 'North': set(['Toa Payoh North']),\n",
      " 'Patah': set(['Jl. Raden Patah']),\n",
      " 'Payoh': set(['Lorong 1 Toa Payoh',\n",
      "               'Lorong 1A Toa Payoh',\n",
      "               'Lorong 2 Toa Payoh',\n",
      "               'Lorong 3 Toa Payoh',\n",
      "               'Lorong 4 Toa Payoh',\n",
      "               'Lorong 5 Toa Payoh',\n",
      "               'Lorong 6 Toa Payoh',\n",
      "               'Lorong 7 Toa Payoh',\n",
      "               'Lorong 8 Toa Payoh']),\n",
      " 'Pelatina': set(['Jln Pelatina']),\n",
      " 'Pemuda': set(['Lorong Pemuda']),\n",
      " 'Perak': set(['Persiaran Layar Perak']),\n",
      " 'Peria': set(['Lorong Peria']),\n",
      " 'Permata': set(['Lorong Permata']),\n",
      " 'Pinang': set(['Jl.  Batu 13 Tanjung Pinang']),\n",
      " 'Plains': set(['Edgedale Plains',\n",
      "                'Edgefield Plains']),\n",
      " 'Plaza': set(['Tanjong Pagar Plaza']),\n",
      " 'Pramuka': set(['Jl. Pramuka']),\n",
      " 'Promenade': set(['Kim Seng Promenade']),\n",
      " 'Puntong': set(['Lorong Puntong']),\n",
      " 'Puteri': set(['Jl. Engku Puteri']),\n",
      " 'Putri': set(['Persiaran Sri Putri']),\n",
      " 'Quay': set(['Boat Quay',\n",
      "              'Collyer Quay',\n",
      "              'North Boat Quay',\n",
      "              'Raffles Quay',\n",
      "              'Robertson Quay']),\n",
      " 'Rd': set(['31 Lower Kent Ridge Rd',\n",
      "            'Bukit Timah Rd',\n",
      "            'East Coast Rd',\n",
      "            'Jupiter Rd',\n",
      "            'Malcolm Rd',\n",
      "            'Orchard Rd',\n",
      "            'Stockport Rd',\n",
      "            'Tanjong Pagar Rd',\n",
      "            'Towner Rd',\n",
      "            'Upper East Coast Rd',\n",
      "            'Upper Thomson Rd']),\n",
      " 'Residence': set(['Cendana Residence']),\n",
      " 'Ria': set(['Lorong Ria']),\n",
      " 'Ring': set(['Stagmont Ring']),\n",
      " 'Rise': set(['Changi North Rise',\n",
      "              'Loyang Rise',\n",
      "              'Marsiling Rise',\n",
      "              'Mount Sinai Rise',\n",
      "              'Novena Rise',\n",
      "              'Simei Rise',\n",
      "              'Tanah Merah Kechil Rise',\n",
      "              'Telok Blangah Rise']),\n",
      " 'Sadai': set(['Bengkong Kolam Blok 12A No.9 Sadai']),\n",
      " 'Samak': set(['Lorong Samak']),\n",
      " 'Sarhad': set(['Lor Sarhad']),\n",
      " 'Sari': set(['Anggrek Sari']),\n",
      " 'Sarina': set(['Lor Sarina']),\n",
      " 'Sarjana': set(['Persiaran Sarjana']),\n",
      " 'Sebong': set(['Jln. Kampung Rambutan RT 01/01 Sebong Pereh, Teluk Sebong']),\n",
      " 'Sector': set(['Benoi Sector',\n",
      "                'Kallang Sector']),\n",
      " 'Sedenak': set(['Kebun Sedenak']),\n",
      " 'Selamat': set(['Lorong Selamat',\n",
      "                 'Taman Selamat']),\n",
      " 'Selangat': set(['Lorong Selangat']),\n",
      " 'Selatan': set(['Persiaran Puteri Selatan']),\n",
      " 'Serasi': set(['Taman Serasi']),\n",
      " 'Serindit': set(['Lorong Jln. Serindit']),\n",
      " 'Soeprapto': set(['JL. Jaksa Agung R. Soeprapto']),\n",
      " 'Soo': set(['Lor Ah Soo',\n",
      "             'Lorong Ah Soo']),\n",
      " 'Square': set(['Fullerton Square',\n",
      "                'Maritime Square',\n",
      "                'Sengkang Square']),\n",
      " 'St': set(['Admiralty St',\n",
      "            'Gopeng St']),\n",
      " 'Sukajadi': set(['Komplek Ruko Permata Komplek Ruko Permata  Niaga Blok C No.3Bukit Indah Sukajadi']),\n",
      " 'Supratman': set(['Jln. Wr. Supratman']),\n",
      " 'Swee': set(['Jln Bkt Ho Swee']),\n",
      " 'Tanggam': set(['Lorong Tanggam']),\n",
      " 'Telok': set(['Lor Telok',\n",
      "               'Lorong Telok']),\n",
      " 'Terrance': set(['Elite Terrance']),\n",
      " 'Tiga': set(['Lengkong Tiga']),\n",
      " 'Todak': set(['Jl. Todak']),\n",
      " 'Tujoh': set(['Lengkong Tujoh']),\n",
      " 'Turn': set(['Orchard Turn',\n",
      "              'Pioneer Turn']),\n",
      " 'U': set(['Mukakuning Indah 1 Blok U']),\n",
      " 'Vale': set(['Clifton Vale',\n",
      "              'Mimosa Vale']),\n",
      " 'Valencia': set(['Taman Valencia']),\n",
      " 'Valley': set(['Pandan Valley']),\n",
      " 'Vista': set(['Keppel Bay Vista',\n",
      "               'Marine Vista']),\n",
      " 'West': set(['Toa Payoh West',\n",
      "              'Whampoa West']),\n",
      " 'afifi': set(['jln afifi']),\n",
      " 'imperium': set(['super blok imperium']),\n",
      " 'indahpura': set(['bandar indahpura']),\n",
      " 'jaya': set(['Perumahan nusa jaya']),\n",
      " 'no2': set(['komplek bintang raya blok B no2']),\n",
      " 'raya': set(['komp bintang raya']),\n",
      " 'rd': set(['lornie rd',\n",
      "            'sunbird rd'])}\n"
     ]
    }
   ],
   "source": [
    "# used for finding the last word because\n",
    "expecteds = ['avenue','street','center','central','drive','crescent','boulevard','jalan','gardens','hill','link','park',\n",
    "           'place','road','terrace','view','walk','way','close','circle','lane','garden']\n",
    "# return true if it is street\n",
    "def is_street(elem):\n",
    "    if elem.attrib['k'] == 'addr:street':\n",
    "        return True\n",
    "    else:\n",
    "        return False\n",
    "#gives street other than our expected street\n",
    "def audit_street(street_types,val):\n",
    "    flag = 0\n",
    "    for expected in expecteds:\n",
    "        expected_expression = re.compile(expected,re.IGNORECASE)\n",
    "        if expected_expression.search(val) == None:\n",
    "            flag = 0\n",
    "        else:\n",
    "            flag = 1\n",
    "            break\n",
    "    if flag == 0:\n",
    "        last_word=re.compile('\\s(\\w+)$')\n",
    "        word=last_word.search(val)   \n",
    "        if not word == None:\n",
    "                street_types[word.group().strip()].add(val)            \n",
    "# findind inconsistent street\n",
    "def inconsistent_streets(filename):\n",
    "    street_types = collections.defaultdict(set)\n",
    "    for _,elem in cET.iterparse(filename,events=('start',)):\n",
    "        if elem.tag == 'node' or elem.tag == 'way':\n",
    "            for tag in elem.iter('tag'):\n",
    "                if is_street(tag):\n",
    "                    val = tag.attrib['v']\n",
    "                    audit_street(street_types,val)\n",
    "    return street_types\n",
    "\n",
    "\n",
    "demo=inconsistent_streets('singapore.osm')                    \n",
    "pprint.pprint(dict(demo),width=10)\n"
   ]
  },
  {
   "cell_type": "code",
   "execution_count": 4,
   "metadata": {
    "collapsed": false
   },
   "outputs": [
    {
     "name": "stdout",
     "output_type": "stream",
     "text": [
      "{'1': set(['Clementi Avenue 1',\n",
      "           'Hougang Avenue 1',\n",
      "           'Iskandar IRoada 1',\n",
      "           'Lorong 1',\n",
      "           'Mukakuning Indah 1',\n",
      "           'Persiaran Canselor 1',\n",
      "           'Serangoon Aenue 1',\n",
      "           'Ubi Avenue 1',\n",
      "           'Woodlands Avenue 1',\n",
      "           'Woodlands Sector 1']),\n",
      " '11': set(['Block B. 11']),\n",
      " '14': set(['Clementi Street 14']),\n",
      " '2': set(['Clementi Avenue 2',\n",
      "           'Jl.Tiban 2',\n",
      "           'Lorong 2']),\n",
      " '2a': set(['Lorong 2a']),\n",
      " '2b': set(['Lorong 2b']),\n",
      " '2c': set(['Lorong 2c']),\n",
      " '3': set(['1013 Geylang EaStreet Avenue 3',\n",
      "           'Ang Mo Kio Avenue 3',\n",
      "           'Lorong 3',\n",
      "           'Lorong Sundang 3']),\n",
      " '4': set(['Ang Mo Kio Avenue 4',\n",
      "           'Lorong 4',\n",
      "           'Tampines Avenue 4']),\n",
      " '5': set(['Bukit Batok EaStreet Avenue 5',\n",
      "           'Choa Chu Kang North 5',\n",
      "           'Lorong 5',\n",
      "           'Mukakuning Indah 1 Block U No 5',\n",
      "           'Ruko Citra Mas Block No 5',\n",
      "           'Tampines InduStreetrial Avenue 5']),\n",
      " '51': set(['Yishun Street 51']),\n",
      " '6': set(['Ang Mo Kio Avenue 6',\n",
      "           'Lorong 6',\n",
      "           'Pasir Ris Dr 6',\n",
      "           'Yishun Avenue 6']),\n",
      " '62': set(['Ang Mo Kio Street 62',\n",
      "            'km 62']),\n",
      " '65': set(['Jurong WeStreet Street 65']),\n",
      " '7': set(['70 Woodlands Avenue 7',\n",
      "           'Lorong 7']),\n",
      " '7A': set(['Eunos Avenue 7A']),\n",
      " '8': set(['Lorong 8']),\n",
      " '92': set(['Jurong WeStreet Street 92']),\n",
      " 'Adil': set(['Lorong Adil']),\n",
      " 'Ahmad': set(['Lorong Haji Omar Ahmad']),\n",
      " 'Ali': set(['Jln. Megat Ali']),\n",
      " 'Ampas': set(['Lorong Ampas']),\n",
      " 'Asoka': set(['Jl. Asoka']),\n",
      " 'Ave': set(['Brighton Avenue',\n",
      "             'Sin Min Avenue']),\n",
      " 'Avebue': set(['Bayfront Avenuenue']),\n",
      " 'Bahru': set(['Gelyang Bahru',\n",
      "               'Geylang Bahru',\n",
      "               'Kallang Bahru',\n",
      "               'Lengkok Bahru']),\n",
      " 'Balai': set(['Lorong Balai']),\n",
      " 'Bank': set(['Pearl Bank']),\n",
      " 'Barelang': set(['Jl.Trans Barelang']),\n",
      " 'Barli': set(['Persiaran Barli']),\n",
      " 'Batam': set(['Komplek Bumi Indah Nagoya, Depan Sari Jaya Hotel. Batam']),\n",
      " 'Belian': set(['Lorong Belian']),\n",
      " 'Besar': set(['Pantai Batu Besar']),\n",
      " 'Biru': set(['Lorong Biru']),\n",
      " 'Blvd': set(['Airport Boulevard']),\n",
      " 'Bow': set(['Compassvale Bow']),\n",
      " 'Bugis': set(['Kampong Bugis']),\n",
      " 'Centre': set(['Bukit Timah Shopping Centre',\n",
      "                'Komplek Oriana ,Batam Centre']),\n",
      " 'Chuan': set(['Lorong Chuan']),\n",
      " 'Clubhouse': set(['Pine Grove Clubhouse']),\n",
      " 'Concourse': set(['Tampines Concourse']),\n",
      " 'Court': set(['Albert Court']),\n",
      " 'Cresent': set(['Choa Chu Kang Cresent',\n",
      "                 'Gambas Cresent']),\n",
      " 'Cross': set(['Rhu Cross']),\n",
      " 'Damai': set(['Lorong Damai']),\n",
      " 'Dermoth': set(['Tiban Mc Dermoth']),\n",
      " 'Dr': set(['Libra Dr']),\n",
      " 'East': set(['Punggol EaStreet']),\n",
      " 'Elizabeth': set(['Mount Elizabeth']),\n",
      " 'Emas': set(['Persiaran Impian Emas']),\n",
      " 'Enam': set(['Lengkong Enam']),\n",
      " 'Estate': set(['Dalvey EStreetate',\n",
      "                'Mandai EStreetate',\n",
      "                'Sector B Sin Ming Ind EStreetate']),\n",
      " 'Field': set(['Punggol Field']),\n",
      " 'Gate': set(['Sultan Gate']),\n",
      " 'Geylang': set(['Lorong 1 Geylang',\n",
      "                 'Lorong 10 Geylang',\n",
      "                 'Lorong 11 Geylang',\n",
      "                 'Lorong 12 Geylang',\n",
      "                 'Lorong 14 Geylang',\n",
      "                 'Lorong 15 Geylang',\n",
      "                 'Lorong 16 Geylang',\n",
      "                 'Lorong 17 Geylang',\n",
      "                 'Lorong 18 Geylang',\n",
      "                 'Lorong 20 Geylang',\n",
      "                 'Lorong 21 Geylang',\n",
      "                 'Lorong 22 Geylang',\n",
      "                 'Lorong 26 Geylang',\n",
      "                 'Lorong 27 Geylang',\n",
      "                 'Lorong 3 Geylang',\n",
      "                 'Lorong 4 Geylang',\n",
      "                 'Lorong 6 Geylang',\n",
      "                 'Lorong 8 Geylang']),\n",
      " 'Grande': set(['Tampines Grande']),\n",
      " 'Green': set(['Buangkok Green',\n",
      "               'EaStreetwood Green',\n",
      "               'Finlayson Green',\n",
      "               'Laguna Golf Green',\n",
      "               'Nim Green',\n",
      "               'River Valley Green',\n",
      "               'Streetratton Green',\n",
      "               'ViStreeta Exchange Green']),\n",
      " 'Grove': set(['Beechwood Grove',\n",
      "               'Biomedical Grove',\n",
      "               'Lynwood Grove',\n",
      "               'Pasir Ris Grove',\n",
      "               'Peakville Grove',\n",
      "               'Pine Grove']),\n",
      " 'Harbour': set(['Puteri Harbour']),\n",
      " 'Height': set(['Ledang Height',\n",
      "                'Nong Chik Height']),\n",
      " 'Heights': set(['Holland Heights',\n",
      "                 'Leedon Heights',\n",
      "                 'Telok Blangah Heights',\n",
      "                 'Toh Heights',\n",
      "                 'Watten Heights']),\n",
      " 'Hikmat': set(['Lorong Hikmat']),\n",
      " 'Hitam': set(['PT. Anggrek Hitam']),\n",
      " 'I': set(['Jl.Tiban I']),\n",
      " 'Impian': set(['Persiaran Seri Impian']),\n",
      " 'Indah': set(['Perumahan Graha Permata Indah, Tiban Indah',\n",
      "               'Villa Bukit Indah']),\n",
      " 'Intan': set(['Lorong Intan']),\n",
      " 'Interchange': set(['Mahmoodiah Interchange']),\n",
      " 'Jaya': set(['Lorong Jaya']),\n",
      " 'Johor': set(['Taman Pasir Puteh, 81700 Pasir Gudang, Johor']),\n",
      " 'Kampus': set(['Persiaran Kampus']),\n",
      " 'Kanan': set(['Lorong Bakti Kanan']),\n",
      " 'Kayu': set(['Kampong Kayu']),\n",
      " 'Kedua': set(['Lebuhraya Hubungan Kedua']),\n",
      " 'Kembang': set(['Lorong Kembang']),\n",
      " 'Kembangan': set(['Lorong Kembangan',\n",
      "                   'Taman Kembangan']),\n",
      " 'Kempas': set(['Lengkok Kempas']),\n",
      " 'Kemuliaan': set(['Jl.Budi Kemuliaan']),\n",
      " 'Kiri': set(['Lorong Bakti Kiri']),\n",
      " 'Kismis': set(['Lorong Kismis']),\n",
      " 'Knolls': set(['The Knolls']),\n",
      " 'Koon': set(['Lorong Low Koon']),\n",
      " 'Kurau': set(['Lorong J Telok Kurau',\n",
      "               'Lorong K Telok Kurau']),\n",
      " 'Lekiu': set(['Jl.Hang Lekiu']),\n",
      " 'Lian': set(['Lorong Lew Lian']),\n",
      " 'Lima': set(['Lengkong Lima']),\n",
      " 'Limau': set(['Lorong Limau']),\n",
      " 'Liput': set(['Lor Liput',\n",
      "               'Lorong Liput']),\n",
      " 'Loop': set(['Cleantech Loop',\n",
      "              'Pandan Loop',\n",
      "              'Tuas Loop']),\n",
      " 'Lye': set(['Lorong Ong Lye']),\n",
      " 'Maju': set(['Lorong Maju']),\n",
      " 'Makmur': set(['Lorong Makmur']),\n",
      " 'Malaysia': set(['Kampung Sepakat, 81750 Masai, Johor, Malaysia']),\n",
      " 'Mambong': set(['Lorong Mambong']),\n",
      " 'Marican': set(['Lorong Marican']),\n",
      " 'Marzuki': set(['Lorong Marzuki']),\n",
      " 'Murni': set(['Lorong Murni']),\n",
      " 'Mutiara': set(['Lorong Mutiara']),\n",
      " 'Napiri': set(['Lorong Napiri']),\n",
      " 'Nasib': set(['Lorong Nasib']),\n",
      " 'Nee': set(['Jln Tan Hiok Nee']),\n",
      " 'North': set(['Toa Payoh North']),\n",
      " 'Patah': set(['Jl. Raden Patah']),\n",
      " 'Payoh': set(['Lorong 1 Toa Payoh',\n",
      "               'Lorong 1A Toa Payoh',\n",
      "               'Lorong 2 Toa Payoh',\n",
      "               'Lorong 3 Toa Payoh',\n",
      "               'Lorong 4 Toa Payoh',\n",
      "               'Lorong 5 Toa Payoh',\n",
      "               'Lorong 6 Toa Payoh',\n",
      "               'Lorong 7 Toa Payoh',\n",
      "               'Lorong 8 Toa Payoh']),\n",
      " 'Pelatina': set(['Jln Pelatina']),\n",
      " 'Pemuda': set(['Lorong Pemuda']),\n",
      " 'Perak': set(['Persiaran Layar Perak']),\n",
      " 'Peria': set(['Lorong Peria']),\n",
      " 'Permata': set(['Lorong Permata']),\n",
      " 'Pinang': set(['Jl.  Batu 13 Tanjung Pinang']),\n",
      " 'Plains': set(['Edgedale Plains',\n",
      "                'Edgefield Plains']),\n",
      " 'Plaza': set(['Tanjong Pagar Plaza']),\n",
      " 'Pramuka': set(['Jl. Pramuka']),\n",
      " 'Promenade': set(['Kim Seng Promenade']),\n",
      " 'Puntong': set(['Lorong Puntong']),\n",
      " 'Puteri': set(['Jl. Engku Puteri']),\n",
      " 'Putri': set(['Persiaran Sri Putri']),\n",
      " 'Quay': set(['Boat Quay',\n",
      "              'Collyer Quay',\n",
      "              'North Boat Quay',\n",
      "              'Raffles Quay',\n",
      "              'Robertson Quay']),\n",
      " 'Rd': set(['31 Lower Kent Ridge Road',\n",
      "            'Bukit Timah Road',\n",
      "            'EaStreet CoaStreet Road',\n",
      "            'Jupiter Road',\n",
      "            'Malcolm Road',\n",
      "            'OrchaRoad Road',\n",
      "            'Streetockport Road',\n",
      "            'Tanjong Pagar Road',\n",
      "            'Towner Road',\n",
      "            'Upper EaStreet CoaStreet Road',\n",
      "            'Upper Thomson Road']),\n",
      " 'Residence': set(['Cendana Residence']),\n",
      " 'Ria': set(['Lorong Ria']),\n",
      " 'Ring': set(['Streetagmont Ring']),\n",
      " 'Rise': set(['Changi North Rise',\n",
      "              'Loyang Rise',\n",
      "              'Marsiling Rise',\n",
      "              'Mount Sinai Rise',\n",
      "              'Novena Rise',\n",
      "              'Simei Rise',\n",
      "              'Tanah Merah Kechil Rise',\n",
      "              'Telok Blangah Rise']),\n",
      " 'Sadai': set(['Bengkong Kolam Block 12A No.9 Sadai']),\n",
      " 'Samak': set(['Lorong Samak']),\n",
      " 'Sarhad': set(['Lor Sarhad']),\n",
      " 'Sari': set(['Anggrek Sari']),\n",
      " 'Sarina': set(['Lor Sarina']),\n",
      " 'Sarjana': set(['Persiaran Sarjana']),\n",
      " 'Sebong': set(['Jln. Kampung Rambutan RT 01/01 Sebong Pereh, Teluk Sebong']),\n",
      " 'Sector': set(['Benoi Sector',\n",
      "                'Kallang Sector']),\n",
      " 'Sedenak': set(['Kebun Sedenak']),\n",
      " 'Selamat': set(['Lorong Selamat',\n",
      "                 'Taman Selamat']),\n",
      " 'Selangat': set(['Lorong Selangat']),\n",
      " 'Selatan': set(['Persiaran Puteri Selatan']),\n",
      " 'Serasi': set(['Taman Serasi']),\n",
      " 'Serindit': set(['Lorong Jln. Serindit']),\n",
      " 'Soeprapto': set(['JL. Jaksa Agung R. Soeprapto']),\n",
      " 'Soo': set(['Lor Ah Soo',\n",
      "             'Lorong Ah Soo']),\n",
      " 'Square': set(['Fullerton Square',\n",
      "                'Maritime Square',\n",
      "                'Sengkang Square']),\n",
      " 'St': set(['Admiralty Street',\n",
      "            'Gopeng Street']),\n",
      " 'Sukajadi': set(['Komplek Ruko Permata Komplek Ruko Permata  Niaga Block C No.3Bukit Indah Sukajadi']),\n",
      " 'Supratman': set(['Jln. Wr. Supratman']),\n",
      " 'Swee': set(['Jln Bkt Ho Swee']),\n",
      " 'Tanggam': set(['Lorong Tanggam']),\n",
      " 'Telok': set(['Lor Telok',\n",
      "               'Lorong Telok']),\n",
      " 'Terrance': set(['Elite Terrace']),\n",
      " 'Tiga': set(['Lengkong Tiga']),\n",
      " 'Todak': set(['Jl. Todak']),\n",
      " 'Tujoh': set(['Lengkong Tujoh']),\n",
      " 'Turn': set(['OrchaRoad Turn',\n",
      "              'Pioneer Turn']),\n",
      " 'U': set(['Mukakuning Indah 1 Block U']),\n",
      " 'Vale': set(['Clifton Vale',\n",
      "              'Mimosa Vale']),\n",
      " 'Valencia': set(['Taman Valencia']),\n",
      " 'Valley': set(['Pandan Valley']),\n",
      " 'Vista': set(['Keppel Bay ViStreeta',\n",
      "               'Marine ViStreeta']),\n",
      " 'West': set(['Toa Payoh WeStreet',\n",
      "              'Whampoa WeStreet']),\n",
      " 'afifi': set(['jln afifi']),\n",
      " 'imperium': set(['super Block imperium']),\n",
      " 'indahpura': set(['bandar indahpura']),\n",
      " 'jaya': set(['Perumahan nusa jaya']),\n",
      " 'no2': set(['komplek bintang raya Block B no2']),\n",
      " 'raya': set(['komp bintang raya']),\n",
      " 'rd': set(['lornie Road',\n",
      "            'sunbiRoad Road'])}\n"
     ]
    }
   ],
   "source": [
    "# changing the inconsistence to correct name\n",
    "def inconsistent_to_correct_name(name): \n",
    "    inconsistance_map = {\n",
    "    'rd': 'Road',\n",
    "    'Avebue': 'Avenue',\n",
    "    'ave': 'Avenue',\n",
    "    'blvd': 'Boulevard',\n",
    "    'Blok': 'Block',\n",
    "    'BNo': 'No',\n",
    "    'Terrance': 'Terrace',\n",
    "    'st': 'Street'\n",
    "      }\n",
    "    for inconsistent in inconsistance_map:\n",
    "        regexp = re.compile(inconsistent,re.IGNORECASE)\n",
    "        if regexp.search(name) != None:\n",
    "            name = re.sub(inconsistent,inconsistance_map[inconsistent],name,flags=re.IGNORECASE)\n",
    "    return name\n",
    "# convert the inconsistent dict to correct dict\n",
    "def convert_street(mydict):\n",
    "    new_street = collections.defaultdict(set)\n",
    "    for index in mydict:\n",
    "        setelement = mydict[index]\n",
    "        for val in setelement:            \n",
    "            new_street[index].add(inconsistent_to_correct_name(val))\n",
    "    return new_street\n",
    "data=convert_street(demo)\n",
    "pprint.pprint(dict(data),width=10)"
   ]
  },
  {
   "cell_type": "markdown",
   "metadata": {
    "collapsed": true
   },
   "source": [
    "# converting into dict for further storing dict to json"
   ]
  },
  {
   "cell_type": "code",
   "execution_count": 8,
   "metadata": {
    "collapsed": false
   },
   "outputs": [],
   "source": [
    "# convert the node into dict so that it will be converted into json\n",
    "def node_to_dict(filename):\n",
    "    data = []\n",
    "    for _,elem in cET.iterparse(filename,events=('start',)):\n",
    "        if elem.tag == 'node':\n",
    "            node = {}\n",
    "            node['uniqueId'] = int(elem.attrib['id'])\n",
    "            node['loc'] = [float(elem.attrib['lat']),float(elem.attrib['lon'])]\n",
    "            node['version'] = int(elem.attrib['version'])\n",
    "            node['user'] = elem.attrib['user']\n",
    "            tags = []\n",
    "            flag = 0\n",
    "            for tag in elem.iter('tag'):\n",
    "                flag = 1\n",
    "                temp = {}\n",
    "                if is_street(tag):\n",
    "                    temp['k']=tag.attrib['k']\n",
    "                    temp['v']=inconsistent_to_correct_name(tag.attrib['v'])\n",
    "                else:\n",
    "                    temp['k']=tag.attrib['k']\n",
    "                    temp['v']=tag.attrib['v']\n",
    "                tags.append(temp)\n",
    "            if flag == 1:\n",
    "                node['tag'] =tags\n",
    "            data.append(node)\n",
    "    return data\n",
    "node_data=node_to_dict('s')"
   ]
  },
  {
   "cell_type": "code",
   "execution_count": 11,
   "metadata": {
    "collapsed": false
   },
   "outputs": [],
   "source": [
    "# convert the way into dict so that it will be converted into json\n",
    "def way_to_dict(filename):\n",
    "    data = []\n",
    "    for _,elem in cET.iterparse('singapore.osm',events=('start',)):\n",
    "        if elem.tag == 'way':\n",
    "            way = {}\n",
    "            way['uniqueId'] = int(elem.attrib['id'])\n",
    "            way['uid'] = int(elem.attrib['uid'])\n",
    "            nds = []\n",
    "            for nd in elem.iter('nd'):\n",
    "                nds.append(int(nd.attrib['ref']))\n",
    "            way['nd'] = nds\n",
    "            tags = []\n",
    "            flag = 0\n",
    "            for tag in elem.iter('tag'):\n",
    "                flag = 1\n",
    "                temp = {}\n",
    "                if is_street(tag):\n",
    "                    temp['k']=tag.attrib['k']\n",
    "                    temp['v']=inconsistent_to_correct_name(tag.attrib['v'])\n",
    "                else:\n",
    "                    temp['k']=tag.attrib['k']\n",
    "                    temp['v']=tag.attrib['v']\n",
    "                tags.append(temp)\n",
    "            if flag == 1:\n",
    "                way['tag'] =tags\n",
    "            data.append(way)\n",
    "    return data\n",
    "way_data = way_to_dict('singapore.osm')\n",
    "            "
   ]
  },
  {
   "cell_type": "code",
   "execution_count": 12,
   "metadata": {
    "collapsed": false
   },
   "outputs": [
    {
     "data": {
      "text/plain": [
       "{'nd': [26778964,\n",
       "  247749632,\n",
       "  1275309736,\n",
       "  1275309696,\n",
       "  462263980,\n",
       "  473019059,\n",
       "  4486796339,\n",
       "  1278204303,\n",
       "  3689717007,\n",
       "  246494174],\n",
       " 'tag': [{'k': 'highway', 'v': 'trunk'},\n",
       "  {'k': 'name', 'v': 'Orchard Road'},\n",
       "  {'k': 'oneway', 'v': 'yes'}],\n",
       " 'uid': 5084650,\n",
       " 'uniqueId': 4386520}"
      ]
     },
     "execution_count": 12,
     "metadata": {},
     "output_type": "execute_result"
    }
   ],
   "source": [
    "way_data[0]"
   ]
  },
  {
   "cell_type": "markdown",
   "metadata": {},
   "source": [
    "# writing file"
   ]
  },
  {
   "cell_type": "code",
   "execution_count": 13,
   "metadata": {
    "collapsed": false
   },
   "outputs": [],
   "source": [
    "with open('node.json', 'w') as fp:\n",
    "    fp.write(simplejson.dumps(node_data,indent=4))"
   ]
  },
  {
   "cell_type": "code",
   "execution_count": 14,
   "metadata": {
    "collapsed": true
   },
   "outputs": [],
   "source": [
    "with open('way.json', 'w') as fp:\n",
    "    fp.write(simplejson.dumps(way_data,indent=4))"
   ]
  },
  {
   "cell_type": "code",
   "execution_count": 13,
   "metadata": {
    "collapsed": false
   },
   "outputs": [
    {
     "name": "stdout",
     "output_type": "stream",
     "text": [
      "{\n",
      "    \"changeset\": \"46097651\", \n",
      "    \"uid\": \"5084650\", \n",
      "    \"nd\": [\n",
      "        \"26778964\", \n",
      "        \"247749632\", \n",
      "        \"1275309736\", \n",
      "        \"1275309696\", \n",
      "        \"462263980\", \n",
      "        \"473019059\", \n",
      "        \"4486796339\", \n",
      "        \"1278204303\", \n",
      "        \"3689717007\", \n",
      "        \"246494174\"\n",
      "    ], \n",
      "    \"version\": \"24\", \n",
      "    \"user\": \"woodennature\", \n",
      "    \"uniqueId\": \"4386520\", \n",
      "    \"tag\": [\n",
      "        {\n",
      "            \"k\": \"highway\", \n",
      "            \"v\": \"trunk\"\n",
      "        }, \n",
      "        {\n",
      "            \"k\": \"name\", \n",
      "            \"v\": \"Orchard Road\"\n",
      "        }, \n",
      "        {\n",
      "            \"k\": \"oneway\", \n",
      "            \"v\": \"yes\"\n",
      "        }\n",
      "    ]\n",
      "}\n"
     ]
    }
   ],
   "source": [
    "print json.dumps(way_data[0],indent=4)"
   ]
  },
  {
   "cell_type": "markdown",
   "metadata": {},
   "source": [
    "# importing to mongo\n",
    "after writing json to file i imported the specific file using:         \n",
    "mongoimport -filename node.json -c node --jsonArray                        \n",
    "mongoimport -filename way.json -c way --jsonArray\n",
    "# importing mongo client for further analysis"
   ]
  },
  {
   "cell_type": "code",
   "execution_count": 7,
   "metadata": {
    "collapsed": true
   },
   "outputs": [],
   "source": [
    "from pymongo import MongoClient\n",
    "client = MongoClient()"
   ]
  },
  {
   "cell_type": "code",
   "execution_count": 8,
   "metadata": {
    "collapsed": true
   },
   "outputs": [],
   "source": [
    "db = client.test"
   ]
  },
  {
   "cell_type": "markdown",
   "metadata": {},
   "source": [
    "# top 10 contributers "
   ]
  },
  {
   "cell_type": "code",
   "execution_count": 26,
   "metadata": {
    "collapsed": false
   },
   "outputs": [
    {
     "data": {
      "text/plain": [
       "[{u'_id': u'JaLooNz', u'count': 320058},\n",
       " {u'_id': u'berjaya', u'count': 103080},\n",
       " {u'_id': u'rene78', u'count': 73724},\n",
       " {u'_id': u'cboothroyd', u'count': 68382},\n",
       " {u'_id': u'lmum', u'count': 39556},\n",
       " {u'_id': u'kingrollo', u'count': 36584},\n",
       " {u'_id': u'Luis36995', u'count': 35363},\n",
       " {u'_id': u'ridixcr', u'count': 31911},\n",
       " {u'_id': u'Sihabul Milah', u'count': 30405},\n",
       " {u'_id': u'calfarome', u'count': 29240}]"
      ]
     },
     "execution_count": 26,
     "metadata": {},
     "output_type": "execute_result"
    }
   ],
   "source": [
    "# finding top contributed user\n",
    "list(db.node.aggregate([{\n",
    "    '$group':{\"_id\":\"$user\",\"count\":{\"$sum\":1}}\n",
    "},\n",
    "{\n",
    "    '$sort':{'count':-1}\n",
    "},\n",
    "{\n",
    "    '$limit':10\n",
    "}]))"
   ]
  },
  {
   "cell_type": "markdown",
   "metadata": {},
   "source": [
    "# number of node and ways"
   ]
  },
  {
   "cell_type": "code",
   "execution_count": 25,
   "metadata": {
    "collapsed": false
   },
   "outputs": [
    {
     "name": "stdout",
     "output_type": "stream",
     "text": [
      "220418\n",
      "1426354\n"
     ]
    }
   ],
   "source": [
    "print db.way.find({}).count()\n",
    "print db.node.find({}).count()"
   ]
  },
  {
   "cell_type": "markdown",
   "metadata": {},
   "source": [
    "# find the number of areas like hospital museum and garden"
   ]
  },
  {
   "cell_type": "code",
   "execution_count": 22,
   "metadata": {
    "collapsed": false
   },
   "outputs": [
    {
     "data": {
      "text/plain": [
       "77"
      ]
     },
     "execution_count": 22,
     "metadata": {},
     "output_type": "execute_result"
    }
   ],
   "source": [
    "db.node.find({'tag.v':{'$regex':'hospital','$options':'i'}}).count()"
   ]
  },
  {
   "cell_type": "code",
   "execution_count": 23,
   "metadata": {
    "collapsed": false
   },
   "outputs": [
    {
     "data": {
      "text/plain": [
       "29"
      ]
     },
     "execution_count": 23,
     "metadata": {},
     "output_type": "execute_result"
    }
   ],
   "source": [
    "db.node.find({'tag.v':{'$regex':'museum','$options':'i'}}).count()"
   ]
  },
  {
   "cell_type": "code",
   "execution_count": 24,
   "metadata": {
    "collapsed": false
   },
   "outputs": [
    {
     "data": {
      "text/plain": [
       "165"
      ]
     },
     "execution_count": 24,
     "metadata": {},
     "output_type": "execute_result"
    }
   ],
   "source": [
    "db.node.find({'tag.v':{'$regex':'garden','$options':'i'}}).count()"
   ]
  },
  {
   "cell_type": "markdown",
   "metadata": {},
   "source": [
    "# finding unique user count"
   ]
  },
  {
   "cell_type": "code",
   "execution_count": 41,
   "metadata": {
    "collapsed": false
   },
   "outputs": [
    {
     "data": {
      "text/plain": [
       "[{u'_id': 1, u'count': 1647}]"
      ]
     },
     "execution_count": 41,
     "metadata": {},
     "output_type": "execute_result"
    }
   ],
   "source": [
    "list(db.node.aggregate([\n",
    "    {\n",
    "        '$group':{'_id':'$user'}\n",
    "    },\n",
    "   { '$group': { '_id': 1, 'count': { '$sum': 1 } } }\n",
    "]))"
   ]
  },
  {
   "cell_type": "markdown",
   "metadata": {},
   "source": [
    "# some improvement about dataset\n",
    "all the text under singapore is consist of malay,mandrin,tamil and english so distingusing                       \n",
    "street are difficult so if language translation made properly it'll be easy for foriegn travallers to use \n",
    "the map\n",
    "for example i found that avenue is declered as Aenue"
   ]
  },
  {
   "cell_type": "code",
   "execution_count": null,
   "metadata": {
    "collapsed": true
   },
   "outputs": [],
   "source": []
  }
 ],
 "metadata": {
  "kernelspec": {
   "display_name": "Python 2",
   "language": "python",
   "name": "python2"
  },
  "language_info": {
   "codemirror_mode": {
    "name": "ipython",
    "version": 2
   },
   "file_extension": ".py",
   "mimetype": "text/x-python",
   "name": "python",
   "nbconvert_exporter": "python",
   "pygments_lexer": "ipython2",
   "version": "2.7.12"
  }
 },
 "nbformat": 4,
 "nbformat_minor": 2
}
