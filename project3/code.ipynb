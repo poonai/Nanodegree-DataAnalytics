{
 "cells": [
  {
   "cell_type": "code",
   "execution_count": 1,
   "metadata": {
    "collapsed": false
   },
   "outputs": [],
   "source": [
    "import xml.etree.cElementTree as cET\n",
    "import re\n",
    "import collections\n",
    "import pprint\n",
    "import json\n",
    "import simplejson"
   ]
  },
  {
   "cell_type": "markdown",
   "metadata": {},
   "source": [
    "# finding the unique tag on the xml"
   ]
  },
  {
   "cell_type": "code",
   "execution_count": 2,
   "metadata": {
    "collapsed": false
   },
   "outputs": [
    {
     "name": "stdout",
     "output_type": "stream",
     "text": [
      "['osm', 'bounds', 'node', 'tag', 'way', 'nd', 'relation', 'member']\n"
     ]
    }
   ],
   "source": [
    "# finding unique tag\n",
    "tags = []\n",
    "for _,elem in cET.iterparse('singapore.osm',('start',)):\n",
    "    if not elem.tag in tags:\n",
    "        tags.append(elem.tag)       \n",
    "print tags"
   ]
  },
  {
   "cell_type": "markdown",
   "metadata": {
    "collapsed": true
   },
   "source": [
    "# unique tag count"
   ]
  },
  {
   "cell_type": "code",
   "execution_count": 3,
   "metadata": {
    "collapsed": false
   },
   "outputs": [
    {
     "name": "stdout",
     "output_type": "stream",
     "text": [
      "{'node': 1426354, 'member': 94175, 'tag': 663789, 'osm': 1, 'way': 220418, 'relation': 2551, 'nd': 1765632, 'bounds': 1}\n"
     ]
    }
   ],
   "source": [
    "# unique tag count\n",
    "tag_count = {\n",
    "    'osm':0,\n",
    "    'bounds':0,\n",
    "    'node':0,\n",
    "    'tag':0,\n",
    "    'way':0,\n",
    "    'nd':0,\n",
    "    'relation':0,\n",
    "    'member':0\n",
    "}\n",
    "for _,elem in cET.iterparse('singapore.osm',events=('start',)):\n",
    "    tag_count[elem.tag]+=1\n",
    "print tag_count"
   ]
  },
  {
   "cell_type": "markdown",
   "metadata": {},
   "source": [
    "# tag description\n",
    "1) node - lat and lng of each point                                               \n",
    "2) tag - describe about the tag which it got enclosed.it has to attribute k and v eg: tag decribe about node                 \n",
    "3) way- it consist of nd tags reffrence to each node to form a ploygon line eg: highway road                       \n",
    "4) relation - A relation is a multi-purpose data structure that documents a relationship between two or more data elements (nodes, ways, and/or other relations)              \n",
    "5) bounds - it tells the max lat and lng of that dataset                      \n",
    "6) osm - tells the version and some meta data of this xml file                  \n",
    "\n",
    "# total tag count"
   ]
  },
  {
   "cell_type": "code",
   "execution_count": 4,
   "metadata": {
    "collapsed": false
   },
   "outputs": [
    {
     "name": "stdout",
     "output_type": "stream",
     "text": [
      "642365\n"
     ]
    }
   ],
   "source": [
    "count = 0\n",
    "for _,elem in cET.iterparse('singapore.osm',events=('start',)):\n",
    "    if elem.tag == 'node' or elem.tag == \"way\":\n",
    "        for tag in elem.iter('tag'):\n",
    "            count+=1\n",
    "print count"
   ]
  },
  {
   "cell_type": "markdown",
   "metadata": {},
   "source": [
    "# auditing\n",
    "finding some intresting street rather than our expected street"
   ]
  },
  {
   "cell_type": "code",
   "execution_count": 35,
   "metadata": {
    "collapsed": false
   },
   "outputs": [],
   "source": [
    "# used for finding the last word because\n",
    "expecteds = ['avenue','street','center','central','drive','crescent','boulevard','jalan','gardens','hill','link','park',\n",
    "           'place','road','terrace','view','walk','way','close','circle','lane','garden']\n",
    "# return true if it is street\n",
    "def is_street(elem):\n",
    "    if elem.attrib['k'] == 'addr:street':\n",
    "        return True\n",
    "    else:\n",
    "        return False\n",
    "#gives street other than our expected street\n",
    "def audit_street(street_types,val):\n",
    "    flag = 0\n",
    "    for expected in expecteds:\n",
    "        expected_expression = re.compile(expected,re.IGNORECASE)\n",
    "        if expected_expression.search(val) == None:\n",
    "            flag = 0\n",
    "        else:\n",
    "            flag = 1\n",
    "            break\n",
    "    if flag == 0:\n",
    "        last_word=re.compile('\\s(\\w+)$')\n",
    "        word=last_word.search(val)   \n",
    "        if not word == None:\n",
    "                street_types[word.group().strip()].add(val)            \n",
    "# findind inconsistent street\n",
    "def inconsistent_streets(filename):\n",
    "    street_types = collections.defaultdict(set)\n",
    "    for _,elem in cET.iterparse(filename,events=('start',)):\n",
    "        if elem.tag == 'node' or elem.tag == 'way':\n",
    "            for tag in elem.iter('tag'):\n",
    "                if is_street(tag):\n",
    "                    val = tag.attrib['v']\n",
    "                    audit_street(street_types,val)\n",
    "    return street_types\n",
    "\n",
    "\n",
    "demo=inconsistent_streets('singapore.osm')                    "
   ]
  },
  {
   "cell_type": "code",
   "execution_count": 40,
   "metadata": {
    "collapsed": false
   },
   "outputs": [],
   "source": [
    "# changing the inconsistence to correct name\n",
    "def inconsistent_to_correct_name(name): \n",
    "    inconsistance_map = {\n",
    "    'rd': 'Road',\n",
    "    'Avebue': 'Avenue',\n",
    "    'ave': 'Avenue',\n",
    "    'blvd': 'Boulevard',\n",
    "    'Blok': 'Block',\n",
    "    'BNo': 'No',\n",
    "    'Terrance': 'Terrace',\n",
    "    'st': 'Street'\n",
    "      }\n",
    "    for inconsistent in inconsistance_map:\n",
    "        regexp = re.compile(inconsistent,re.IGNORECASE)\n",
    "        if regexp.search(name) != None:\n",
    "            name = re.sub(inconsistent,inconsistance_map[inconsistent],name,flags=re.IGNORECASE)\n",
    "    return name\n",
    "# convert the inconsistent dict to correct dict\n",
    "def convert_street(mydict):\n",
    "    new_street = collections.defaultdict(set)\n",
    "    for index in mydict:\n",
    "        setelement = mydict[index]\n",
    "        for val in setelement:            \n",
    "            new_street[index].add(inconsistent_to_correct_name(val))\n",
    "    return new_street\n",
    "data=convert_street(demo)\n",
    "#pprint.pprint(dict(data),width=10)"
   ]
  },
  {
   "cell_type": "markdown",
   "metadata": {},
   "source": [
    "# further auditing\n",
    "- normally postal code in singaore will be in length of 6 digit           \n",
    "  so i'm removing the unwated postal code \n",
    "- 'addr-*' is not readable so that key values are changed to readable one"
   ]
  },
  {
   "cell_type": "code",
   "execution_count": 26,
   "metadata": {
    "collapsed": false
   },
   "outputs": [],
   "source": [
    "def is_postcode(elem):\n",
    "    if elem.attrib['k'] == 'addr:postcode':\n",
    "        return True\n",
    "    else:\n",
    "        return False\n",
    "def is_valid_postcode(elem):\n",
    "    if len(elem.attrib['v']) == 6:\n",
    "        return True\n",
    "    else:\n",
    "        return False\n",
    "def is_address(elem):\n",
    "    is_addr = re.compile('addr',re.IGNORECASE)\n",
    "    if is_addr.match(elem.attrib['k']) != None:\n",
    "        return True\n",
    "    else:\n",
    "        return False\n",
    "def correct_address(val):\n",
    "    is_addr = re.compile('addr',re.IGNORECASE)\n",
    "    if is_addr.match(val) != None:\n",
    "        return val.split(':')[1]\n",
    "    else:\n",
    "        return val"
   ]
  },
  {
   "cell_type": "markdown",
   "metadata": {},
   "source": [
    "# converting into dict for further storing dict to json"
   ]
  },
  {
   "cell_type": "code",
   "execution_count": 31,
   "metadata": {
    "collapsed": false
   },
   "outputs": [],
   "source": [
    "# convert the node into dict so that it will be converted into json\n",
    "def node_to_dict(filename):\n",
    "    data = []\n",
    "    for _,elem in cET.iterparse(filename,events=('start',)):\n",
    "        if elem.tag == 'node':\n",
    "            node = {}\n",
    "            node['uniqueId'] = int(elem.attrib['id'])\n",
    "            node['loc'] = [float(elem.attrib['lat']),float(elem.attrib['lon'])]\n",
    "            node['version'] = int(elem.attrib['version'])\n",
    "            node['user'] = elem.attrib['user']\n",
    "            tags = []\n",
    "            flag = 0\n",
    "            for tag in elem.iter('tag'):\n",
    "                flag = 1\n",
    "                temp = {}\n",
    "                if is_street(tag):\n",
    "                    temp['k']='street'\n",
    "                    temp['v']=inconsistent_to_correct_name(tag.attrib['v'])\n",
    "                elif is_postcode(tag):\n",
    "                    if is_valid_postcode(tag):\n",
    "                        temp['k']='postcode'\n",
    "                        temp['v']=tag.attrib['v']\n",
    "                elif is_address(tag):\n",
    "                    temp['k']=correct_address(tag.attrib['k'])\n",
    "                    temp['v']=tag.attrib['v']\n",
    "                else:\n",
    "                    temp['k']=tag.attrib['k']\n",
    "                    temp['v']=tag.attrib['v']\n",
    "                tags.append(temp)\n",
    "            if flag == 1:\n",
    "                node['tag'] =tags\n",
    "            data.append(node)\n",
    "    return data\n",
    "node_data=node_to_dict('singapore.osm')"
   ]
  },
  {
   "cell_type": "code",
   "execution_count": 37,
   "metadata": {
    "collapsed": false
   },
   "outputs": [],
   "source": [
    "# convert the way into dict so that it will be converted into json\n",
    "def way_to_dict(filename):\n",
    "    data = []\n",
    "    for _,elem in cET.iterparse('singapore.osm',events=('start',)):\n",
    "        if elem.tag == 'way':\n",
    "            way = {}\n",
    "            way['uniqueId'] = int(elem.attrib['id'])\n",
    "            way['uid'] = int(elem.attrib['uid'])\n",
    "            nds = []\n",
    "            for nd in elem.iter('nd'):\n",
    "                nds.append(int(nd.attrib['ref']))\n",
    "            way['nd'] = nds\n",
    "            tags = []\n",
    "            flag = 0\n",
    "            for tag in elem.iter('tag'):\n",
    "                flag = 1\n",
    "                temp = {}\n",
    "                if is_street(tag):\n",
    "                    temp['k']='street'\n",
    "                    temp['v']=inconsistent_to_correct_name(tag.attrib['v'])\n",
    "                elif is_postcode(tag):\n",
    "                    if is_valid_postcode(tag):\n",
    "                        temp['k']='postcode'\n",
    "                        temp['v']=tag.attrib['v']\n",
    "                elif is_address(tag):\n",
    "                    temp['k']=correct_address(tag.attrib['k'])\n",
    "                    temp['v']=tag.attrib['v']\n",
    "                else:\n",
    "                    temp['k']=tag.attrib['k']\n",
    "                    temp['v']=tag.attrib['v']\n",
    "                tags.append(temp)\n",
    "            if flag == 1:\n",
    "                way['tag'] =tags\n",
    "            data.append(way)\n",
    "    return data\n",
    "way_data = way_to_dict('singapore.osm')\n",
    "            "
   ]
  },
  {
   "cell_type": "code",
   "execution_count": 39,
   "metadata": {
    "collapsed": false
   },
   "outputs": [
    {
     "data": {
      "text/plain": [
       "({'loc': [1.2954578, 103.8740371],\n",
       "  'tag': [{'k': 'ref', 'v': '14A'},\n",
       "   {'k': 'highway', 'v': 'motorway_junction'}],\n",
       "  'uniqueId': 25455287,\n",
       "  'user': 'cboothroyd',\n",
       "  'version': 5},\n",
       " {'nd': [133662042,\n",
       "   1781548512,\n",
       "   1747994844,\n",
       "   1531189549,\n",
       "   1747994845,\n",
       "   1747994847,\n",
       "   133662046,\n",
       "   133662048,\n",
       "   133662050,\n",
       "   3553412996,\n",
       "   133662051,\n",
       "   1781710553,\n",
       "   133662053,\n",
       "   1781710555,\n",
       "   133662054,\n",
       "   1781710557],\n",
       "  'tag': [{'k': 'highway', 'v': 'motorway'},\n",
       "   {'k': 'lanes', 'v': '2'},\n",
       "   {'k': 'maxspeed', 'v': '90'},\n",
       "   {'k': 'name', 'v': 'TPE'}],\n",
       "  'uid': 4240913,\n",
       "  'uniqueId': 14058412})"
      ]
     },
     "execution_count": 39,
     "metadata": {},
     "output_type": "execute_result"
    }
   ],
   "source": [
    "node_data[20],way_data[20]"
   ]
  },
  {
   "cell_type": "markdown",
   "metadata": {},
   "source": [
    "# writing file"
   ]
  },
  {
   "cell_type": "code",
   "execution_count": 13,
   "metadata": {
    "collapsed": false
   },
   "outputs": [],
   "source": [
    "with open('node.json', 'w') as fp:\n",
    "    fp.write(simplejson.dumps(node_data,indent=4))"
   ]
  },
  {
   "cell_type": "code",
   "execution_count": 14,
   "metadata": {
    "collapsed": true
   },
   "outputs": [],
   "source": [
    "with open('way.json', 'w') as fp:\n",
    "    fp.write(simplejson.dumps(way_data,indent=4))"
   ]
  },
  {
   "cell_type": "code",
   "execution_count": 13,
   "metadata": {
    "collapsed": false
   },
   "outputs": [
    {
     "name": "stdout",
     "output_type": "stream",
     "text": [
      "{\n",
      "    \"changeset\": \"46097651\", \n",
      "    \"uid\": \"5084650\", \n",
      "    \"nd\": [\n",
      "        \"26778964\", \n",
      "        \"247749632\", \n",
      "        \"1275309736\", \n",
      "        \"1275309696\", \n",
      "        \"462263980\", \n",
      "        \"473019059\", \n",
      "        \"4486796339\", \n",
      "        \"1278204303\", \n",
      "        \"3689717007\", \n",
      "        \"246494174\"\n",
      "    ], \n",
      "    \"version\": \"24\", \n",
      "    \"user\": \"woodennature\", \n",
      "    \"uniqueId\": \"4386520\", \n",
      "    \"tag\": [\n",
      "        {\n",
      "            \"k\": \"highway\", \n",
      "            \"v\": \"trunk\"\n",
      "        }, \n",
      "        {\n",
      "            \"k\": \"name\", \n",
      "            \"v\": \"Orchard Road\"\n",
      "        }, \n",
      "        {\n",
      "            \"k\": \"oneway\", \n",
      "            \"v\": \"yes\"\n",
      "        }\n",
      "    ]\n",
      "}\n"
     ]
    }
   ],
   "source": [
    "print json.dumps(way_data[0],indent=4)"
   ]
  },
  {
   "cell_type": "markdown",
   "metadata": {},
   "source": [
    "# importing to mongo\n",
    "after writing json to file i imported the specific file using:         \n",
    "mongoimport -filename node.json -c node --jsonArray                        \n",
    "mongoimport -filename way.json -c way --jsonArray\n",
    "# importing mongo client for further analysis"
   ]
  },
  {
   "cell_type": "code",
   "execution_count": 7,
   "metadata": {
    "collapsed": true
   },
   "outputs": [],
   "source": [
    "from pymongo import MongoClient\n",
    "client = MongoClient()"
   ]
  },
  {
   "cell_type": "code",
   "execution_count": 8,
   "metadata": {
    "collapsed": true
   },
   "outputs": [],
   "source": [
    "db = client.test"
   ]
  },
  {
   "cell_type": "markdown",
   "metadata": {},
   "source": [
    "# top 10 contributers "
   ]
  },
  {
   "cell_type": "code",
   "execution_count": 26,
   "metadata": {
    "collapsed": false
   },
   "outputs": [
    {
     "data": {
      "text/plain": [
       "[{u'_id': u'JaLooNz', u'count': 320058},\n",
       " {u'_id': u'berjaya', u'count': 103080},\n",
       " {u'_id': u'rene78', u'count': 73724},\n",
       " {u'_id': u'cboothroyd', u'count': 68382},\n",
       " {u'_id': u'lmum', u'count': 39556},\n",
       " {u'_id': u'kingrollo', u'count': 36584},\n",
       " {u'_id': u'Luis36995', u'count': 35363},\n",
       " {u'_id': u'ridixcr', u'count': 31911},\n",
       " {u'_id': u'Sihabul Milah', u'count': 30405},\n",
       " {u'_id': u'calfarome', u'count': 29240}]"
      ]
     },
     "execution_count": 26,
     "metadata": {},
     "output_type": "execute_result"
    }
   ],
   "source": [
    "# finding top contributed user\n",
    "list(db.node.aggregate([{\n",
    "    '$group':{\"_id\":\"$user\",\"count\":{\"$sum\":1}}\n",
    "},\n",
    "{\n",
    "    '$sort':{'count':-1}\n",
    "},\n",
    "{\n",
    "    '$limit':10\n",
    "}]))"
   ]
  },
  {
   "cell_type": "markdown",
   "metadata": {},
   "source": [
    "# number of node and ways"
   ]
  },
  {
   "cell_type": "code",
   "execution_count": 25,
   "metadata": {
    "collapsed": false
   },
   "outputs": [
    {
     "name": "stdout",
     "output_type": "stream",
     "text": [
      "220418\n",
      "1426354\n"
     ]
    }
   ],
   "source": [
    "print db.way.find({}).count()\n",
    "print db.node.find({}).count()"
   ]
  },
  {
   "cell_type": "markdown",
   "metadata": {},
   "source": [
    "# find the number of areas like hospital museum and garden"
   ]
  },
  {
   "cell_type": "code",
   "execution_count": 22,
   "metadata": {
    "collapsed": false
   },
   "outputs": [
    {
     "data": {
      "text/plain": [
       "77"
      ]
     },
     "execution_count": 22,
     "metadata": {},
     "output_type": "execute_result"
    }
   ],
   "source": [
    "db.node.find({'tag.v':{'$regex':'hospital','$options':'i'}}).count()"
   ]
  },
  {
   "cell_type": "code",
   "execution_count": 23,
   "metadata": {
    "collapsed": false
   },
   "outputs": [
    {
     "data": {
      "text/plain": [
       "29"
      ]
     },
     "execution_count": 23,
     "metadata": {},
     "output_type": "execute_result"
    }
   ],
   "source": [
    "db.node.find({'tag.v':{'$regex':'museum','$options':'i'}}).count()"
   ]
  },
  {
   "cell_type": "code",
   "execution_count": 24,
   "metadata": {
    "collapsed": false
   },
   "outputs": [
    {
     "data": {
      "text/plain": [
       "165"
      ]
     },
     "execution_count": 24,
     "metadata": {},
     "output_type": "execute_result"
    }
   ],
   "source": [
    "db.node.find({'tag.v':{'$regex':'garden','$options':'i'}}).count()"
   ]
  },
  {
   "cell_type": "markdown",
   "metadata": {},
   "source": [
    "# finding unique user count"
   ]
  },
  {
   "cell_type": "code",
   "execution_count": 41,
   "metadata": {
    "collapsed": false
   },
   "outputs": [
    {
     "data": {
      "text/plain": [
       "[{u'_id': 1, u'count': 1647}]"
      ]
     },
     "execution_count": 41,
     "metadata": {},
     "output_type": "execute_result"
    }
   ],
   "source": [
    "list(db.node.aggregate([\n",
    "    {\n",
    "        '$group':{'_id':'$user'}\n",
    "    },\n",
    "   { '$group': { '_id': 1, 'count': { '$sum': 1 } } }\n",
    "]))"
   ]
  },
  {
   "cell_type": "markdown",
   "metadata": {},
   "source": [
    "# some improvement about dataset\n",
    "all the text under singapore is consisting of malay,mandrin,tamil and english so distingusing                       \n",
    "street are difficult so if language translation made properly it'll be easy for foriegn travallers to use \n",
    "the map\n",
    "for example i found that avenue is declered as Aenue\n",
    "# solution    \n",
    "## benefit   \n",
    "-  it helps foriegn traveller to read\n",
    "## issue\n",
    "- sigapore is a diverse nation so finding right contributor to \n",
    "  solve will be difficult                                              \n",
    "    <br>\n",
    "    <br>\n",
    "### singapore have restructered their postal code system [https://en.wikipedia.org/wiki/Postal_codes_in_Singapore]     \n",
    "# solution \n",
    "## benefit\n",
    "- it'll be easy for traveller to navigate in singapore\n",
    "## issue\n",
    "- it'll be difficult for locals to navigate because they familiar with their old\n",
    "  system\n"
   ]
  },
  {
   "cell_type": "code",
   "execution_count": 25,
   "metadata": {
    "collapsed": false
   },
   "outputs": [
    {
     "data": {
      "text/plain": [
       "'Sd'"
      ]
     },
     "execution_count": 25,
     "metadata": {},
     "output_type": "execute_result"
    }
   ],
   "source": []
  },
  {
   "cell_type": "code",
   "execution_count": null,
   "metadata": {
    "collapsed": true
   },
   "outputs": [],
   "source": []
  }
 ],
 "metadata": {
  "kernelspec": {
   "display_name": "Python 2",
   "language": "python",
   "name": "python2"
  },
  "language_info": {
   "codemirror_mode": {
    "name": "ipython",
    "version": 2
   },
   "file_extension": ".py",
   "mimetype": "text/x-python",
   "name": "python",
   "nbconvert_exporter": "python",
   "pygments_lexer": "ipython2",
   "version": "2.7.12"
  }
 },
 "nbformat": 4,
 "nbformat_minor": 2
}
